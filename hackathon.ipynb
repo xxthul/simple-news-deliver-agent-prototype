{
 "cells": [
  {
   "cell_type": "code",
   "execution_count": 35,
   "id": "69d6187d-53a6-4549-b656-f92c06189e95",
   "metadata": {},
   "outputs": [],
   "source": [
    "import openai\n",
    "import requests\n",
    "from bs4 import BeautifulSoup\n",
    "\n",
    "openai.api_type = \"azure\"\n",
    "openai.api_key = \"your_api_key\"\n",
    "openai.api_base = \"https://mindcraft-kapidhwaj-openai-api-key.openai.azure.com/\"\n",
    "openai.api_version = \"2024-12-01-preview\"\n"
   ]
  },
  {
   "cell_type": "code",
   "execution_count": 39,
   "id": "a459a957-b003-451d-8ca3-8d765c126062",
   "metadata": {},
   "outputs": [
    {
     "name": "stdout",
     "output_type": "stream",
     "text": [
      "Fetched Headlines: ['Pressure Mounts for WNBA to Make Major Change After Caitlin Clark Incident - Athlon Sports', 'Diddy trial updates: Ex-assistant Brendan Paul set to testify in Sean Combs’s case - The Washington Post', 'America’s largest Iranian diaspora is at a crossroads - Politico', 'Assisted dying vote: MPs voting after emotional debate - live updates - BBC', \"Stock futures gain as Fed's Waller sees rate cut ahead, Trump delays Iran strike decision: Live updates - CNBC\", 'Cybercriminals breach Aflac as part of hacking spree against US insurance industry - CNN', \"Geofenced With 'Safety Monitor': What The Tesla Robotaxi Launch Will Look Like - Investor's Business Daily\", 'Capitol agenda: Rand Paul forces GOP into megabill runaround - Politico', 'Telegram boss Pavel Durov says all his 100-plus kids will get a slice of his $13.9 billion fortune — eventually - Business Insider', \"'28 Years Later' Director Danny Boyle Says Shooting on iPhones Let Him Capture 'Startling' Violence - WIRED\"]\n"
     ]
    }
   ],
   "source": [
    "import requests\n",
    "\n",
    "def fetch_headlines_newsapi(api_key):\n",
    "    url = f\"https://newsapi.org/v2/top-headlines?country=us&apiKey={api_key}\"\n",
    "    response = requests.get(url)\n",
    "    data = response.json()\n",
    "    headlines = [article['title'] for article in data['articles'][:10]]\n",
    "    return headlines\n",
    "\n",
    "# Replace this with your actual NewsAPI key\n",
    "newsapi_key = \"2fdf0843804a4760b1d9dbec94329df3\"\n",
    "headlines = fetch_headlines_newsapi(newsapi_key)\n",
    "print(\"Fetched Headlines:\", headlines)\n"
   ]
  },
  {
   "cell_type": "code",
   "execution_count": 40,
   "id": "beb7cb4e-212d-439c-a764-14fdecb3dec4",
   "metadata": {},
   "outputs": [],
   "source": [
    "from openai import AzureOpenAI\n",
    "\n",
    "client = AzureOpenAI(\n",
    "    api_key=\"8WxLaoodYxa7XSK2rCiWuP3nqwWUShSUVd5FrjEYSqqROfIwc0qzJQQJ99BFAC77bzfXJ3w3AAABACOGweqQ\",\n",
    "    api_version=\"2024-12-01-preview\",\n",
    "    azure_endpoint=\"https://mindcraft-kapidhwaj-openai-api-key.openai.azure.com/\",\n",
    ")\n",
    "\n",
    "def summarize_news(news_list):\n",
    "    news_text = \"\\n\".join(f\"- {headline}\" for headline in news_list)\n",
    "\n",
    "    response = client.chat.completions.create(\n",
    "        model=\"mindcraft-gpt4o\",\n",
    "        messages=[\n",
    "            {\"role\": \"system\", \"content\": \"You're an autonomous news agent. Summarize and rank today's news headlines based on their importance to a user interested in technology, science, and international affairs. Do not include entertainment or celebrity gossip.\"},\n",
    "\n",
    "            {\"role\": \"user\", \"content\": f\"Summarize and rank the following headlines:\\n{news_text}\"}\n",
    "        ]\n",
    "    )\n",
    "    return response.choices[0].message.content\n",
    "\n"
   ]
  },
  {
   "cell_type": "code",
   "execution_count": 41,
   "id": "be34b0e7-bb93-4e9a-98c3-4bfded1d52e9",
   "metadata": {},
   "outputs": [
    {
     "name": "stdout",
     "output_type": "stream",
     "text": [
      "Here is a ranking of the provided headlines based on their relevance to technology, science, and international affairs:\n",
      "\n",
      "### 1. **Cybercriminals breach Aflac as part of hacking spree against US insurance industry - CNN**\n",
      "   - **Importance**: High. The breach highlights critical vulnerabilities in the insurance sector, a significant issue in cybersecurity and technology trends as hackers increasingly target large industries. Implications for data security, consumer trust, and insurance operations are substantial.\n",
      "\n",
      "### 2. **Stock futures gain as Fed's Waller sees rate cut ahead, Trump delays Iran strike decision: Live updates - CNBC**\n",
      "   - **Importance**: High. A potential Federal Reserve rate cut could have global economic implications, particularly for tech innovation and investment. The delayed action on Iran also ties into international affairs with economic and geopolitical consequences.\n",
      "\n",
      "### 3. **Geofenced With 'Safety Monitor': What The Tesla Robotaxi Launch Will Look Like - Investor's Business Daily**\n",
      "   - **Importance**: High. Tesla advancing self-driving technology is a significant milestone in tech and transportation. The geofencing of robotaxis demonstrates the challenges surrounding autonomous vehicle safety and adoption.\n",
      "\n",
      "### 4. **Assisted dying vote: MPs voting after emotional debate - live updates - BBC**\n",
      "   - **Importance**: Medium. Advances in science and medical ethics are core to this debate. The policy decisions could also influence international discussions about end-of-life rights and regulations.\n",
      "\n",
      "### 5. **America’s largest Iranian diaspora is at a crossroads - Politico**\n",
      "   - **Importance**: Medium. This explores demographic and geopolitical dimensions, particularly with regard to U.S.-Iran relations, which have indirect impacts on global tech investments in sectors like energy and communications.\n",
      "\n",
      "### 6. **Capitol agenda: Rand Paul forces GOP into megabill runaround - Politico**\n",
      "   - **Importance**: Low-Medium. U.S. congressional action, while significant domestically, does not directly impact science, technology, or international relations unless tied to these fields specifically.\n",
      "\n",
      "### 7. **Telegram boss Pavel Durov says all his 100-plus kids will get a slice of his $13.9 billion fortune — eventually - Business Insider**\n",
      "   - **Importance**: Low. While notable for the personal life of a tech industry figure, it holds minimal direct value for broader technological or geopolitical significance.\n",
      "\n",
      "### Headlines Not Ranked (Irrelevant to user focus):\n",
      "- *Pressure Mounts for WNBA to Make Major Change After Caitlin Clark Incident - Athlon Sports*\n",
      "- *Diddy trial updates: Ex-assistant Brendan Paul set to testify in Sean Combs’s case - The Washington Post*\n",
      "- *‘28 Years Later’ Director Danny Boyle Says Shooting on iPhones Let Him Capture 'Startling' Violence - WIRED*\n",
      "\n",
      "The priority news focuses should be cybersecurity risks, central bank policies, and advancements in autonomous vehicle technology.\n"
     ]
    }
   ],
   "source": [
    "summary = summarize_news(headlines)\n",
    "print(summary)"
   ]
  },
  {
   "cell_type": "code",
   "execution_count": null,
   "id": "b5c0e0a1-16cd-4999-b9d5-e0a6a8c0b65f",
   "metadata": {},
   "outputs": [],
   "source": []
  }
 ],
 "metadata": {
  "kernelspec": {
   "display_name": "Python 3 (ipykernel)",
   "language": "python",
   "name": "python3"
  },
  "language_info": {
   "codemirror_mode": {
    "name": "ipython",
    "version": 3
   },
   "file_extension": ".py",
   "mimetype": "text/x-python",
   "name": "python",
   "nbconvert_exporter": "python",
   "pygments_lexer": "ipython3",
   "version": "3.12.5"
  }
 },
 "nbformat": 4,
 "nbformat_minor": 5
}
